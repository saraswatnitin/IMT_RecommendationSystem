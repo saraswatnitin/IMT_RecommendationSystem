{
  "cells": [
    {
      "cell_type": "code",
      "execution_count": 1,
      "metadata": {
        "id": "P8iPHP8Jt5hG"
      },
      "outputs": [],
      "source": [
        "#Import the required libraries\n",
        "import pandas as pd\n",
        "import numpy as np\n",
        "import matplotlib.pyplot as plt"
      ]
    },
    {
      "cell_type": "code",
      "execution_count": 2,
      "metadata": {
        "id": "uVFRxebLrKZu"
      },
      "outputs": [],
      "source": [
        "#Give an intuition about User-Item Matrix by using an example of movie rating\n",
        "data = {'userId': [1,1,1,1,1,1,\n",
        "                   2,2,2,2,2,2,\n",
        "                   3,3,3,3,3,3,\n",
        "                   4,4,4,4,4,4,\n",
        "                   5,5,5,5,5,5],\n",
        "        'movieId': ['Action1', 'Action2', 'Action3','Romantic1','Romantic2','Romantic3',\n",
        "                    'Action1', 'Action2', 'Action3','Romantic1','Romantic2','Romantic3',\n",
        "                    'Action1', 'Action2', 'Action3','Romantic1','Romantic2','Romantic3',\n",
        "                    'Action1', 'Action2', 'Action3','Romantic1','Romantic2','Romantic3',\n",
        "                    'Action1', 'Action2', 'Action3','Romantic1','Romantic2','Romantic3'],\n",
        "        'rating': [4,5,3,0,2,1,\n",
        "                   5,3,3,2,2,0,\n",
        "                   1,0,0,4,5,4,\n",
        "                   0,2,1,4,0,3,\n",
        "                   1,0,2,3,3,4]}\n",
        "\n",
        "ratings=pd.DataFrame(data)"
      ]
    },
    {
      "cell_type": "code",
      "execution_count": 4,
      "metadata": {},
      "outputs": [
        {
          "data": {
            "text/html": [
              "<div>\n",
              "<style scoped>\n",
              "    .dataframe tbody tr th:only-of-type {\n",
              "        vertical-align: middle;\n",
              "    }\n",
              "\n",
              "    .dataframe tbody tr th {\n",
              "        vertical-align: top;\n",
              "    }\n",
              "\n",
              "    .dataframe thead th {\n",
              "        text-align: right;\n",
              "    }\n",
              "</style>\n",
              "<table border=\"1\" class=\"dataframe\">\n",
              "  <thead>\n",
              "    <tr style=\"text-align: right;\">\n",
              "      <th></th>\n",
              "      <th>userId</th>\n",
              "      <th>movieId</th>\n",
              "      <th>rating</th>\n",
              "    </tr>\n",
              "  </thead>\n",
              "  <tbody>\n",
              "    <tr>\n",
              "      <th>0</th>\n",
              "      <td>1</td>\n",
              "      <td>Action1</td>\n",
              "      <td>4</td>\n",
              "    </tr>\n",
              "    <tr>\n",
              "      <th>1</th>\n",
              "      <td>1</td>\n",
              "      <td>Action2</td>\n",
              "      <td>5</td>\n",
              "    </tr>\n",
              "    <tr>\n",
              "      <th>2</th>\n",
              "      <td>1</td>\n",
              "      <td>Action3</td>\n",
              "      <td>3</td>\n",
              "    </tr>\n",
              "    <tr>\n",
              "      <th>3</th>\n",
              "      <td>1</td>\n",
              "      <td>Romantic1</td>\n",
              "      <td>0</td>\n",
              "    </tr>\n",
              "    <tr>\n",
              "      <th>4</th>\n",
              "      <td>1</td>\n",
              "      <td>Romantic2</td>\n",
              "      <td>2</td>\n",
              "    </tr>\n",
              "    <tr>\n",
              "      <th>5</th>\n",
              "      <td>1</td>\n",
              "      <td>Romantic3</td>\n",
              "      <td>1</td>\n",
              "    </tr>\n",
              "  </tbody>\n",
              "</table>\n",
              "</div>"
            ],
            "text/plain": [
              "   userId    movieId  rating\n",
              "0       1    Action1       4\n",
              "1       1    Action2       5\n",
              "2       1    Action3       3\n",
              "3       1  Romantic1       0\n",
              "4       1  Romantic2       2\n",
              "5       1  Romantic3       1"
            ]
          },
          "execution_count": 4,
          "metadata": {},
          "output_type": "execute_result"
        }
      ],
      "source": [
        "ratings.head(6)"
      ]
    },
    {
      "cell_type": "code",
      "execution_count": 5,
      "metadata": {
        "id": "Ooxb22_KuSNq"
      },
      "outputs": [],
      "source": [
        "ratings=ratings.fillna(0) #replace any missing values with 0"
      ]
    },
    {
      "cell_type": "code",
      "execution_count": 7,
      "metadata": {
        "colab": {
          "base_uri": "https://localhost:8080/",
          "height": 363
        },
        "id": "bLJXiM_cnzoP",
        "outputId": "1caa7dc1-9f4f-44d3-c88f-a2db1aef78df"
      },
      "outputs": [
        {
          "data": {
            "text/html": [
              "<div>\n",
              "<style scoped>\n",
              "    .dataframe tbody tr th:only-of-type {\n",
              "        vertical-align: middle;\n",
              "    }\n",
              "\n",
              "    .dataframe tbody tr th {\n",
              "        vertical-align: top;\n",
              "    }\n",
              "\n",
              "    .dataframe thead th {\n",
              "        text-align: right;\n",
              "    }\n",
              "</style>\n",
              "<table border=\"1\" class=\"dataframe\">\n",
              "  <thead>\n",
              "    <tr style=\"text-align: right;\">\n",
              "      <th></th>\n",
              "      <th>userId</th>\n",
              "      <th>movieId</th>\n",
              "      <th>rating</th>\n",
              "    </tr>\n",
              "  </thead>\n",
              "  <tbody>\n",
              "    <tr>\n",
              "      <th>0</th>\n",
              "      <td>1</td>\n",
              "      <td>Action1</td>\n",
              "      <td>4</td>\n",
              "    </tr>\n",
              "    <tr>\n",
              "      <th>1</th>\n",
              "      <td>1</td>\n",
              "      <td>Action2</td>\n",
              "      <td>5</td>\n",
              "    </tr>\n",
              "    <tr>\n",
              "      <th>2</th>\n",
              "      <td>1</td>\n",
              "      <td>Action3</td>\n",
              "      <td>3</td>\n",
              "    </tr>\n",
              "    <tr>\n",
              "      <th>3</th>\n",
              "      <td>1</td>\n",
              "      <td>Romantic1</td>\n",
              "      <td>0</td>\n",
              "    </tr>\n",
              "    <tr>\n",
              "      <th>4</th>\n",
              "      <td>1</td>\n",
              "      <td>Romantic2</td>\n",
              "      <td>2</td>\n",
              "    </tr>\n",
              "    <tr>\n",
              "      <th>5</th>\n",
              "      <td>1</td>\n",
              "      <td>Romantic3</td>\n",
              "      <td>1</td>\n",
              "    </tr>\n",
              "    <tr>\n",
              "      <th>6</th>\n",
              "      <td>2</td>\n",
              "      <td>Action1</td>\n",
              "      <td>5</td>\n",
              "    </tr>\n",
              "    <tr>\n",
              "      <th>7</th>\n",
              "      <td>2</td>\n",
              "      <td>Action2</td>\n",
              "      <td>3</td>\n",
              "    </tr>\n",
              "    <tr>\n",
              "      <th>8</th>\n",
              "      <td>2</td>\n",
              "      <td>Action3</td>\n",
              "      <td>3</td>\n",
              "    </tr>\n",
              "    <tr>\n",
              "      <th>9</th>\n",
              "      <td>2</td>\n",
              "      <td>Romantic1</td>\n",
              "      <td>2</td>\n",
              "    </tr>\n",
              "  </tbody>\n",
              "</table>\n",
              "</div>"
            ],
            "text/plain": [
              "   userId    movieId  rating\n",
              "0       1    Action1       4\n",
              "1       1    Action2       5\n",
              "2       1    Action3       3\n",
              "3       1  Romantic1       0\n",
              "4       1  Romantic2       2\n",
              "5       1  Romantic3       1\n",
              "6       2    Action1       5\n",
              "7       2    Action2       3\n",
              "8       2    Action3       3\n",
              "9       2  Romantic1       2"
            ]
          },
          "execution_count": 7,
          "metadata": {},
          "output_type": "execute_result"
        }
      ],
      "source": [
        "ratings.head(10)"
      ]
    },
    {
      "cell_type": "code",
      "execution_count": 8,
      "metadata": {
        "id": "x7EwyTJ3oVdv"
      },
      "outputs": [],
      "source": [
        "ratings=ratings.pivot(index='userId', columns='movieId', values='rating').fillna(0)\n",
        "#Transpose values   "
      ]
    },
    {
      "cell_type": "code",
      "execution_count": 9,
      "metadata": {
        "colab": {
          "base_uri": "https://localhost:8080/",
          "height": 238
        },
        "id": "XgZDlWvDodBu",
        "outputId": "2f2277cc-49c7-43d3-8ef5-43aec92209d8"
      },
      "outputs": [
        {
          "data": {
            "text/html": [
              "<div>\n",
              "<style scoped>\n",
              "    .dataframe tbody tr th:only-of-type {\n",
              "        vertical-align: middle;\n",
              "    }\n",
              "\n",
              "    .dataframe tbody tr th {\n",
              "        vertical-align: top;\n",
              "    }\n",
              "\n",
              "    .dataframe thead th {\n",
              "        text-align: right;\n",
              "    }\n",
              "</style>\n",
              "<table border=\"1\" class=\"dataframe\">\n",
              "  <thead>\n",
              "    <tr style=\"text-align: right;\">\n",
              "      <th>movieId</th>\n",
              "      <th>Action1</th>\n",
              "      <th>Action2</th>\n",
              "      <th>Action3</th>\n",
              "      <th>Romantic1</th>\n",
              "      <th>Romantic2</th>\n",
              "      <th>Romantic3</th>\n",
              "    </tr>\n",
              "    <tr>\n",
              "      <th>userId</th>\n",
              "      <th></th>\n",
              "      <th></th>\n",
              "      <th></th>\n",
              "      <th></th>\n",
              "      <th></th>\n",
              "      <th></th>\n",
              "    </tr>\n",
              "  </thead>\n",
              "  <tbody>\n",
              "    <tr>\n",
              "      <th>1</th>\n",
              "      <td>4</td>\n",
              "      <td>5</td>\n",
              "      <td>3</td>\n",
              "      <td>0</td>\n",
              "      <td>2</td>\n",
              "      <td>1</td>\n",
              "    </tr>\n",
              "    <tr>\n",
              "      <th>2</th>\n",
              "      <td>5</td>\n",
              "      <td>3</td>\n",
              "      <td>3</td>\n",
              "      <td>2</td>\n",
              "      <td>2</td>\n",
              "      <td>0</td>\n",
              "    </tr>\n",
              "    <tr>\n",
              "      <th>3</th>\n",
              "      <td>1</td>\n",
              "      <td>0</td>\n",
              "      <td>0</td>\n",
              "      <td>4</td>\n",
              "      <td>5</td>\n",
              "      <td>4</td>\n",
              "    </tr>\n",
              "    <tr>\n",
              "      <th>4</th>\n",
              "      <td>0</td>\n",
              "      <td>2</td>\n",
              "      <td>1</td>\n",
              "      <td>4</td>\n",
              "      <td>0</td>\n",
              "      <td>3</td>\n",
              "    </tr>\n",
              "    <tr>\n",
              "      <th>5</th>\n",
              "      <td>1</td>\n",
              "      <td>0</td>\n",
              "      <td>2</td>\n",
              "      <td>3</td>\n",
              "      <td>3</td>\n",
              "      <td>4</td>\n",
              "    </tr>\n",
              "  </tbody>\n",
              "</table>\n",
              "</div>"
            ],
            "text/plain": [
              "movieId  Action1  Action2  Action3  Romantic1  Romantic2  Romantic3\n",
              "userId                                                             \n",
              "1              4        5        3          0          2          1\n",
              "2              5        3        3          2          2          0\n",
              "3              1        0        0          4          5          4\n",
              "4              0        2        1          4          0          3\n",
              "5              1        0        2          3          3          4"
            ]
          },
          "execution_count": 9,
          "metadata": {},
          "output_type": "execute_result"
        }
      ],
      "source": [
        "ratings.head()"
      ]
    },
    {
      "cell_type": "code",
      "execution_count": 10,
      "metadata": {
        "id": "1LnKug9Mwtmf"
      },
      "outputs": [],
      "source": [
        "#Apply standardization to bring all values to same scale \n",
        "def standardize(row):\n",
        "  new_row=(row-row.mean())/(row.max()-row.min())\n",
        "  return new_row"
      ]
    },
    {
      "cell_type": "code",
      "execution_count": 11,
      "metadata": {
        "id": "LBTRYW2EnvB3"
      },
      "outputs": [],
      "source": [
        "ratings=ratings.apply(standardize)"
      ]
    },
    {
      "cell_type": "code",
      "execution_count": 12,
      "metadata": {
        "id": "uIwtq-03pD4v"
      },
      "outputs": [],
      "source": [
        "from sklearn.metrics.pairwise import cosine_similarity ## find similarity row wise"
      ]
    },
    {
      "cell_type": "code",
      "execution_count": 13,
      "metadata": {
        "id": "t4lSmsHBoiJu"
      },
      "outputs": [],
      "source": [
        "# user_similarity=cosine_similarity(ratings)\n",
        "item_similarity=cosine_similarity(ratings.T)"
      ]
    },
    {
      "cell_type": "code",
      "execution_count": 14,
      "metadata": {
        "id": "wMXg9aRYo-zt"
      },
      "outputs": [],
      "source": [
        "item_sim_df=pd.DataFrame(item_similarity,index=ratings.columns,columns=ratings.columns)\n",
        "# user_sim_df=pd.DataFrame(user_similarity,index=ratings.index,columns=ratings.index)"
      ]
    },
    {
      "cell_type": "code",
      "execution_count": 15,
      "metadata": {
        "colab": {
          "base_uri": "https://localhost:8080/",
          "height": 238
        },
        "id": "-yC6fU44p1Ph",
        "outputId": "42a3404c-2833-42e8-c67e-3226f92ddacb"
      },
      "outputs": [
        {
          "data": {
            "text/html": [
              "<div>\n",
              "<style scoped>\n",
              "    .dataframe tbody tr th:only-of-type {\n",
              "        vertical-align: middle;\n",
              "    }\n",
              "\n",
              "    .dataframe tbody tr th {\n",
              "        vertical-align: top;\n",
              "    }\n",
              "\n",
              "    .dataframe thead th {\n",
              "        text-align: right;\n",
              "    }\n",
              "</style>\n",
              "<table border=\"1\" class=\"dataframe\">\n",
              "  <thead>\n",
              "    <tr style=\"text-align: right;\">\n",
              "      <th>movieId</th>\n",
              "      <th>Action1</th>\n",
              "      <th>Action2</th>\n",
              "      <th>Action3</th>\n",
              "      <th>Romantic1</th>\n",
              "      <th>Romantic2</th>\n",
              "      <th>Romantic3</th>\n",
              "    </tr>\n",
              "    <tr>\n",
              "      <th>movieId</th>\n",
              "      <th></th>\n",
              "      <th></th>\n",
              "      <th></th>\n",
              "      <th></th>\n",
              "      <th></th>\n",
              "      <th></th>\n",
              "    </tr>\n",
              "  </thead>\n",
              "  <tbody>\n",
              "    <tr>\n",
              "      <th>Action1</th>\n",
              "      <td>1.000000</td>\n",
              "      <td>0.706689</td>\n",
              "      <td>0.813682</td>\n",
              "      <td>-0.799411</td>\n",
              "      <td>-0.025392</td>\n",
              "      <td>-0.914106</td>\n",
              "    </tr>\n",
              "    <tr>\n",
              "      <th>Action2</th>\n",
              "      <td>0.706689</td>\n",
              "      <td>1.000000</td>\n",
              "      <td>0.723102</td>\n",
              "      <td>-0.845154</td>\n",
              "      <td>-0.518999</td>\n",
              "      <td>-0.843374</td>\n",
              "    </tr>\n",
              "    <tr>\n",
              "      <th>Action3</th>\n",
              "      <td>0.813682</td>\n",
              "      <td>0.723102</td>\n",
              "      <td>1.000000</td>\n",
              "      <td>-0.847946</td>\n",
              "      <td>-0.379980</td>\n",
              "      <td>-0.802181</td>\n",
              "    </tr>\n",
              "    <tr>\n",
              "      <th>Romantic1</th>\n",
              "      <td>-0.799411</td>\n",
              "      <td>-0.845154</td>\n",
              "      <td>-0.847946</td>\n",
              "      <td>1.000000</td>\n",
              "      <td>0.148039</td>\n",
              "      <td>0.723747</td>\n",
              "    </tr>\n",
              "    <tr>\n",
              "      <th>Romantic2</th>\n",
              "      <td>-0.025392</td>\n",
              "      <td>-0.518999</td>\n",
              "      <td>-0.379980</td>\n",
              "      <td>0.148039</td>\n",
              "      <td>1.000000</td>\n",
              "      <td>0.393939</td>\n",
              "    </tr>\n",
              "  </tbody>\n",
              "</table>\n",
              "</div>"
            ],
            "text/plain": [
              "movieId     Action1   Action2   Action3  Romantic1  Romantic2  Romantic3\n",
              "movieId                                                                 \n",
              "Action1    1.000000  0.706689  0.813682  -0.799411  -0.025392  -0.914106\n",
              "Action2    0.706689  1.000000  0.723102  -0.845154  -0.518999  -0.843374\n",
              "Action3    0.813682  0.723102  1.000000  -0.847946  -0.379980  -0.802181\n",
              "Romantic1 -0.799411 -0.845154 -0.847946   1.000000   0.148039   0.723747\n",
              "Romantic2 -0.025392 -0.518999 -0.379980   0.148039   1.000000   0.393939"
            ]
          },
          "execution_count": 15,
          "metadata": {},
          "output_type": "execute_result"
        }
      ],
      "source": [
        "item_sim_df.head()"
      ]
    },
    {
      "cell_type": "code",
      "execution_count": 16,
      "metadata": {
        "id": "MGh7XwMYuaoU"
      },
      "outputs": [],
      "source": [
        "# user_sim_df.head()"
      ]
    },
    {
      "cell_type": "code",
      "execution_count": 17,
      "metadata": {
        "id": "gT0X3-KNqDTD"
      },
      "outputs": [],
      "source": [
        "#Define a function to get similar movie name based on similarity score\n",
        "def get_similar_movie(movie_name,user_rating):\n",
        "  # similar_score=item_sim_df[movie_name]*(user_rating) find most similar element and put at top liked disliked both at top\n",
        "  similar_score=item_sim_df[movie_name]*(user_rating-2.5)\n",
        "  return similar_score.sort_values(ascending=False)"
      ]
    },
    {
      "cell_type": "code",
      "execution_count": 18,
      "metadata": {
        "colab": {
          "base_uri": "https://localhost:8080/"
        },
        "id": "6LOe2XCDqDJt",
        "outputId": "8cee7551-6728-41a7-95bb-27ca506f5366"
      },
      "outputs": [
        {
          "name": "stdout",
          "output_type": "stream",
          "text": [
            "movieId\n",
            "Action3      1.271919\n",
            "Action2      1.267731\n",
            "Action1      1.199116\n",
            "Romantic2   -0.222059\n",
            "Romantic3   -1.085620\n",
            "Romantic1   -1.500000\n",
            "Name: Romantic1, dtype: float64\n"
          ]
        }
      ],
      "source": [
        "print(get_similar_movie('Romantic1',1))"
      ]
    },
    {
      "cell_type": "code",
      "execution_count": 19,
      "metadata": {
        "id": "kIjTvbD6rF-M"
      },
      "outputs": [],
      "source": [
        "action_lover=[('Action1',5),('Romantic2',1),('Romantic3',1)]"
      ]
    },
    {
      "cell_type": "code",
      "execution_count": 20,
      "metadata": {
        "colab": {
          "base_uri": "https://localhost:8080/"
        },
        "id": "ygMD1lxwvTcp",
        "outputId": "b35b509d-8f54-4ba8-8176-27ee5bd14860"
      },
      "outputs": [
        {
          "name": "stderr",
          "output_type": "stream",
          "text": [
            "C:\\Users\\saras\\AppData\\Local\\Temp\\ipykernel_32608\\2526903088.py:4: FutureWarning: The frame.append method is deprecated and will be removed from pandas in a future version. Use pandas.concat instead.\n",
            "  similar_movies=similar_movies.append(get_similar_movie(movie,rating),ignore_index=True)\n",
            "C:\\Users\\saras\\AppData\\Local\\Temp\\ipykernel_32608\\2526903088.py:4: FutureWarning: The frame.append method is deprecated and will be removed from pandas in a future version. Use pandas.concat instead.\n",
            "  similar_movies=similar_movies.append(get_similar_movie(movie,rating),ignore_index=True)\n",
            "C:\\Users\\saras\\AppData\\Local\\Temp\\ipykernel_32608\\2526903088.py:4: FutureWarning: The frame.append method is deprecated and will be removed from pandas in a future version. Use pandas.concat instead.\n",
            "  similar_movies=similar_movies.append(get_similar_movie(movie,rating),ignore_index=True)\n"
          ]
        },
        {
          "data": {
            "text/plain": [
              "movieId\n",
              "Action1      3.909247\n",
              "Action2      3.810282\n",
              "Action3      3.807445\n",
              "Romantic2   -2.154389\n",
              "Romantic1   -3.306206\n",
              "Romantic3   -4.376174\n",
              "dtype: float64"
            ]
          },
          "execution_count": 20,
          "metadata": {},
          "output_type": "execute_result"
        }
      ],
      "source": [
        "#Create a blank dataframe\n",
        "similar_movies=pd.DataFrame()\n",
        "\n",
        "\n",
        "for movie,rating in action_lover:\n",
        "  similar_movies=similar_movies.append(get_similar_movie(movie,rating),ignore_index=True)\n",
        "\n",
        "similar_movies.head()\n",
        "similar_movies.sum().sort_values(ascending=False)"
      ]
    },
    {
      "cell_type": "code",
      "execution_count": 70,
      "metadata": {
        "colab": {
          "base_uri": "https://localhost:8080/"
        },
        "id": "bAbut9l_vtVX",
        "outputId": "621a0a57-20b7-447a-b947-a61dfb186e00"
      },
      "outputs": [
        {
          "name": "stdout",
          "output_type": "stream",
          "text": [
            "--2024-01-10 19:03:41--  http://files.grouplens.org/datasets/movielens/ml-latest-small.zip\n",
            "Resolving files.grouplens.org (files.grouplens.org)... 128.101.65.152\n",
            "Connecting to files.grouplens.org (files.grouplens.org)|128.101.65.152|:80... connected.\n",
            "HTTP request sent, awaiting response... 200 OK\n",
            "Length: 978202 (955K) [application/zip]\n",
            "Saving to: ‘ml-latest-small.zip’\n",
            "\n",
            "ml-latest-small.zip 100%[===================>] 955.28K  --.-KB/s    in 0.1s    \n",
            "\n",
            "2024-01-10 19:03:41 (8.08 MB/s) - ‘ml-latest-small.zip’ saved [978202/978202]\n",
            "\n",
            "Archive:  ml-latest-small.zip\n",
            "   creating: ml-latest-small/\n",
            "  inflating: ml-latest-small/links.csv  \n",
            "  inflating: ml-latest-small/tags.csv  \n",
            "  inflating: ml-latest-small/ratings.csv  \n",
            "  inflating: ml-latest-small/README.txt  \n",
            "  inflating: ml-latest-small/movies.csv  \n"
          ]
        }
      ],
      "source": [
        "# If the wget does not  work on your machine, simple copy and paste the URL below in browser and the \n",
        "# zipped file will be downloaded. Unzip the file once downloaded.  \n",
        "!wget http://files.grouplens.org/datasets/movielens/ml-latest-small.zip\n",
        "!unzip ml-latest-small.zip"
      ]
    },
    {
      "cell_type": "markdown",
      "metadata": {
        "id": "eN0Jm9vWxCd4"
      },
      "source": [
        "## Real Life dataset"
      ]
    },
    {
      "cell_type": "code",
      "execution_count": 22,
      "metadata": {
        "id": "TSj_c9mMwkAJ"
      },
      "outputs": [],
      "source": [
        "movies=pd.read_csv('ml-latest-small/ml-latest-small/movies.csv')\n",
        "ratings=pd.read_csv('ml-latest-small/ml-latest-small/ratings.csv').sample(10000)\n",
        "ratings=pd.merge(movies,ratings).drop(['genres','timestamp'],axis=1)\n",
        "# ratings.set_index(ratings.columns[0], inplace=True)"
      ]
    },
    {
      "cell_type": "code",
      "execution_count": 100,
      "metadata": {
        "colab": {
          "base_uri": "https://localhost:8080/",
          "height": 424
        },
        "id": "T2CmIybkzNBC",
        "outputId": "6eb070bb-a5e4-4883-b3d6-a21a517e0d2e"
      },
      "outputs": [
        {
          "data": {
            "text/html": [
              "\n",
              "  <div id=\"df-1ef81046-643c-4694-bacd-af017088e2b6\" class=\"colab-df-container\">\n",
              "    <div>\n",
              "<style scoped>\n",
              "    .dataframe tbody tr th:only-of-type {\n",
              "        vertical-align: middle;\n",
              "    }\n",
              "\n",
              "    .dataframe tbody tr th {\n",
              "        vertical-align: top;\n",
              "    }\n",
              "\n",
              "    .dataframe thead th {\n",
              "        text-align: right;\n",
              "    }\n",
              "</style>\n",
              "<table border=\"1\" class=\"dataframe\">\n",
              "  <thead>\n",
              "    <tr style=\"text-align: right;\">\n",
              "      <th></th>\n",
              "      <th>movieId</th>\n",
              "      <th>title</th>\n",
              "      <th>userId</th>\n",
              "      <th>rating</th>\n",
              "    </tr>\n",
              "  </thead>\n",
              "  <tbody>\n",
              "    <tr>\n",
              "      <th>0</th>\n",
              "      <td>1</td>\n",
              "      <td>Toy Story (1995)</td>\n",
              "      <td>134643</td>\n",
              "      <td>4.0</td>\n",
              "    </tr>\n",
              "    <tr>\n",
              "      <th>1</th>\n",
              "      <td>1</td>\n",
              "      <td>Toy Story (1995)</td>\n",
              "      <td>1641</td>\n",
              "      <td>4.5</td>\n",
              "    </tr>\n",
              "    <tr>\n",
              "      <th>2</th>\n",
              "      <td>1</td>\n",
              "      <td>Toy Story (1995)</td>\n",
              "      <td>23186</td>\n",
              "      <td>4.0</td>\n",
              "    </tr>\n",
              "    <tr>\n",
              "      <th>3</th>\n",
              "      <td>1</td>\n",
              "      <td>Toy Story (1995)</td>\n",
              "      <td>128623</td>\n",
              "      <td>3.0</td>\n",
              "    </tr>\n",
              "    <tr>\n",
              "      <th>4</th>\n",
              "      <td>1</td>\n",
              "      <td>Toy Story (1995)</td>\n",
              "      <td>8337</td>\n",
              "      <td>5.0</td>\n",
              "    </tr>\n",
              "    <tr>\n",
              "      <th>...</th>\n",
              "      <td>...</td>\n",
              "      <td>...</td>\n",
              "      <td>...</td>\n",
              "      <td>...</td>\n",
              "    </tr>\n",
              "    <tr>\n",
              "      <th>9995</th>\n",
              "      <td>115824</td>\n",
              "      <td>Mr. Turner (2014)</td>\n",
              "      <td>68026</td>\n",
              "      <td>5.0</td>\n",
              "    </tr>\n",
              "    <tr>\n",
              "      <th>9996</th>\n",
              "      <td>117511</td>\n",
              "      <td>Hello Ladies: The Movie (2014)</td>\n",
              "      <td>71</td>\n",
              "      <td>3.0</td>\n",
              "    </tr>\n",
              "    <tr>\n",
              "      <th>9997</th>\n",
              "      <td>118696</td>\n",
              "      <td>The Hobbit: The Battle of the Five Armies (2014)</td>\n",
              "      <td>10788</td>\n",
              "      <td>4.0</td>\n",
              "    </tr>\n",
              "    <tr>\n",
              "      <th>9998</th>\n",
              "      <td>119145</td>\n",
              "      <td>Kingsman: The Secret Service (2015)</td>\n",
              "      <td>73873</td>\n",
              "      <td>1.5</td>\n",
              "    </tr>\n",
              "    <tr>\n",
              "      <th>9999</th>\n",
              "      <td>131148</td>\n",
              "      <td>What A Man (2011)</td>\n",
              "      <td>79570</td>\n",
              "      <td>4.0</td>\n",
              "    </tr>\n",
              "  </tbody>\n",
              "</table>\n",
              "<p>10000 rows × 4 columns</p>\n",
              "</div>\n",
              "    <div class=\"colab-df-buttons\">\n",
              "\n",
              "  <div class=\"colab-df-container\">\n",
              "    <button class=\"colab-df-convert\" onclick=\"convertToInteractive('df-1ef81046-643c-4694-bacd-af017088e2b6')\"\n",
              "            title=\"Convert this dataframe to an interactive table.\"\n",
              "            style=\"display:none;\">\n",
              "\n",
              "  <svg xmlns=\"http://www.w3.org/2000/svg\" height=\"24px\" viewBox=\"0 -960 960 960\">\n",
              "    <path d=\"M120-120v-720h720v720H120Zm60-500h600v-160H180v160Zm220 220h160v-160H400v160Zm0 220h160v-160H400v160ZM180-400h160v-160H180v160Zm440 0h160v-160H620v160ZM180-180h160v-160H180v160Zm440 0h160v-160H620v160Z\"/>\n",
              "  </svg>\n",
              "    </button>\n",
              "\n",
              "  <style>\n",
              "    .colab-df-container {\n",
              "      display:flex;\n",
              "      gap: 12px;\n",
              "    }\n",
              "\n",
              "    .colab-df-convert {\n",
              "      background-color: #E8F0FE;\n",
              "      border: none;\n",
              "      border-radius: 50%;\n",
              "      cursor: pointer;\n",
              "      display: none;\n",
              "      fill: #1967D2;\n",
              "      height: 32px;\n",
              "      padding: 0 0 0 0;\n",
              "      width: 32px;\n",
              "    }\n",
              "\n",
              "    .colab-df-convert:hover {\n",
              "      background-color: #E2EBFA;\n",
              "      box-shadow: 0px 1px 2px rgba(60, 64, 67, 0.3), 0px 1px 3px 1px rgba(60, 64, 67, 0.15);\n",
              "      fill: #174EA6;\n",
              "    }\n",
              "\n",
              "    .colab-df-buttons div {\n",
              "      margin-bottom: 4px;\n",
              "    }\n",
              "\n",
              "    [theme=dark] .colab-df-convert {\n",
              "      background-color: #3B4455;\n",
              "      fill: #D2E3FC;\n",
              "    }\n",
              "\n",
              "    [theme=dark] .colab-df-convert:hover {\n",
              "      background-color: #434B5C;\n",
              "      box-shadow: 0px 1px 3px 1px rgba(0, 0, 0, 0.15);\n",
              "      filter: drop-shadow(0px 1px 2px rgba(0, 0, 0, 0.3));\n",
              "      fill: #FFFFFF;\n",
              "    }\n",
              "  </style>\n",
              "\n",
              "    <script>\n",
              "      const buttonEl =\n",
              "        document.querySelector('#df-1ef81046-643c-4694-bacd-af017088e2b6 button.colab-df-convert');\n",
              "      buttonEl.style.display =\n",
              "        google.colab.kernel.accessAllowed ? 'block' : 'none';\n",
              "\n",
              "      async function convertToInteractive(key) {\n",
              "        const element = document.querySelector('#df-1ef81046-643c-4694-bacd-af017088e2b6');\n",
              "        const dataTable =\n",
              "          await google.colab.kernel.invokeFunction('convertToInteractive',\n",
              "                                                    [key], {});\n",
              "        if (!dataTable) return;\n",
              "\n",
              "        const docLinkHtml = 'Like what you see? Visit the ' +\n",
              "          '<a target=\"_blank\" href=https://colab.research.google.com/notebooks/data_table.ipynb>data table notebook</a>'\n",
              "          + ' to learn more about interactive tables.';\n",
              "        element.innerHTML = '';\n",
              "        dataTable['output_type'] = 'display_data';\n",
              "        await google.colab.output.renderOutput(dataTable, element);\n",
              "        const docLink = document.createElement('div');\n",
              "        docLink.innerHTML = docLinkHtml;\n",
              "        element.appendChild(docLink);\n",
              "      }\n",
              "    </script>\n",
              "  </div>\n",
              "\n",
              "\n",
              "<div id=\"df-5dac080c-4601-49cd-8322-799a482b2c22\">\n",
              "  <button class=\"colab-df-quickchart\" onclick=\"quickchart('df-5dac080c-4601-49cd-8322-799a482b2c22')\"\n",
              "            title=\"Suggest charts\"\n",
              "            style=\"display:none;\">\n",
              "\n",
              "<svg xmlns=\"http://www.w3.org/2000/svg\" height=\"24px\"viewBox=\"0 0 24 24\"\n",
              "     width=\"24px\">\n",
              "    <g>\n",
              "        <path d=\"M19 3H5c-1.1 0-2 .9-2 2v14c0 1.1.9 2 2 2h14c1.1 0 2-.9 2-2V5c0-1.1-.9-2-2-2zM9 17H7v-7h2v7zm4 0h-2V7h2v10zm4 0h-2v-4h2v4z\"/>\n",
              "    </g>\n",
              "</svg>\n",
              "  </button>\n",
              "\n",
              "<style>\n",
              "  .colab-df-quickchart {\n",
              "      --bg-color: #E8F0FE;\n",
              "      --fill-color: #1967D2;\n",
              "      --hover-bg-color: #E2EBFA;\n",
              "      --hover-fill-color: #174EA6;\n",
              "      --disabled-fill-color: #AAA;\n",
              "      --disabled-bg-color: #DDD;\n",
              "  }\n",
              "\n",
              "  [theme=dark] .colab-df-quickchart {\n",
              "      --bg-color: #3B4455;\n",
              "      --fill-color: #D2E3FC;\n",
              "      --hover-bg-color: #434B5C;\n",
              "      --hover-fill-color: #FFFFFF;\n",
              "      --disabled-bg-color: #3B4455;\n",
              "      --disabled-fill-color: #666;\n",
              "  }\n",
              "\n",
              "  .colab-df-quickchart {\n",
              "    background-color: var(--bg-color);\n",
              "    border: none;\n",
              "    border-radius: 50%;\n",
              "    cursor: pointer;\n",
              "    display: none;\n",
              "    fill: var(--fill-color);\n",
              "    height: 32px;\n",
              "    padding: 0;\n",
              "    width: 32px;\n",
              "  }\n",
              "\n",
              "  .colab-df-quickchart:hover {\n",
              "    background-color: var(--hover-bg-color);\n",
              "    box-shadow: 0 1px 2px rgba(60, 64, 67, 0.3), 0 1px 3px 1px rgba(60, 64, 67, 0.15);\n",
              "    fill: var(--button-hover-fill-color);\n",
              "  }\n",
              "\n",
              "  .colab-df-quickchart-complete:disabled,\n",
              "  .colab-df-quickchart-complete:disabled:hover {\n",
              "    background-color: var(--disabled-bg-color);\n",
              "    fill: var(--disabled-fill-color);\n",
              "    box-shadow: none;\n",
              "  }\n",
              "\n",
              "  .colab-df-spinner {\n",
              "    border: 2px solid var(--fill-color);\n",
              "    border-color: transparent;\n",
              "    border-bottom-color: var(--fill-color);\n",
              "    animation:\n",
              "      spin 1s steps(1) infinite;\n",
              "  }\n",
              "\n",
              "  @keyframes spin {\n",
              "    0% {\n",
              "      border-color: transparent;\n",
              "      border-bottom-color: var(--fill-color);\n",
              "      border-left-color: var(--fill-color);\n",
              "    }\n",
              "    20% {\n",
              "      border-color: transparent;\n",
              "      border-left-color: var(--fill-color);\n",
              "      border-top-color: var(--fill-color);\n",
              "    }\n",
              "    30% {\n",
              "      border-color: transparent;\n",
              "      border-left-color: var(--fill-color);\n",
              "      border-top-color: var(--fill-color);\n",
              "      border-right-color: var(--fill-color);\n",
              "    }\n",
              "    40% {\n",
              "      border-color: transparent;\n",
              "      border-right-color: var(--fill-color);\n",
              "      border-top-color: var(--fill-color);\n",
              "    }\n",
              "    60% {\n",
              "      border-color: transparent;\n",
              "      border-right-color: var(--fill-color);\n",
              "    }\n",
              "    80% {\n",
              "      border-color: transparent;\n",
              "      border-right-color: var(--fill-color);\n",
              "      border-bottom-color: var(--fill-color);\n",
              "    }\n",
              "    90% {\n",
              "      border-color: transparent;\n",
              "      border-bottom-color: var(--fill-color);\n",
              "    }\n",
              "  }\n",
              "</style>\n",
              "\n",
              "  <script>\n",
              "    async function quickchart(key) {\n",
              "      const quickchartButtonEl =\n",
              "        document.querySelector('#' + key + ' button');\n",
              "      quickchartButtonEl.disabled = true;  // To prevent multiple clicks.\n",
              "      quickchartButtonEl.classList.add('colab-df-spinner');\n",
              "      try {\n",
              "        const charts = await google.colab.kernel.invokeFunction(\n",
              "            'suggestCharts', [key], {});\n",
              "      } catch (error) {\n",
              "        console.error('Error during call to suggestCharts:', error);\n",
              "      }\n",
              "      quickchartButtonEl.classList.remove('colab-df-spinner');\n",
              "      quickchartButtonEl.classList.add('colab-df-quickchart-complete');\n",
              "    }\n",
              "    (() => {\n",
              "      let quickchartButtonEl =\n",
              "        document.querySelector('#df-5dac080c-4601-49cd-8322-799a482b2c22 button');\n",
              "      quickchartButtonEl.style.display =\n",
              "        google.colab.kernel.accessAllowed ? 'block' : 'none';\n",
              "    })();\n",
              "  </script>\n",
              "</div>\n",
              "    </div>\n",
              "  </div>\n"
            ],
            "text/plain": [
              "      movieId                                             title  userId  \\\n",
              "0           1                                  Toy Story (1995)  134643   \n",
              "1           1                                  Toy Story (1995)    1641   \n",
              "2           1                                  Toy Story (1995)   23186   \n",
              "3           1                                  Toy Story (1995)  128623   \n",
              "4           1                                  Toy Story (1995)    8337   \n",
              "...       ...                                               ...     ...   \n",
              "9995   115824                                 Mr. Turner (2014)   68026   \n",
              "9996   117511                    Hello Ladies: The Movie (2014)      71   \n",
              "9997   118696  The Hobbit: The Battle of the Five Armies (2014)   10788   \n",
              "9998   119145               Kingsman: The Secret Service (2015)   73873   \n",
              "9999   131148                                 What A Man (2011)   79570   \n",
              "\n",
              "      rating  \n",
              "0        4.0  \n",
              "1        4.5  \n",
              "2        4.0  \n",
              "3        3.0  \n",
              "4        5.0  \n",
              "...      ...  \n",
              "9995     5.0  \n",
              "9996     3.0  \n",
              "9997     4.0  \n",
              "9998     1.5  \n",
              "9999     4.0  \n",
              "\n",
              "[10000 rows x 4 columns]"
            ]
          },
          "execution_count": 100,
          "metadata": {},
          "output_type": "execute_result"
        }
      ],
      "source": [
        "ratings"
      ]
    },
    {
      "cell_type": "code",
      "execution_count": 23,
      "metadata": {
        "id": "9mJxVg0nwyKr"
      },
      "outputs": [],
      "source": [
        "ratings=ratings[['userId','title','rating']]"
      ]
    },
    {
      "cell_type": "code",
      "execution_count": 24,
      "metadata": {
        "id": "dhV8PKHpw-rf"
      },
      "outputs": [],
      "source": [
        "ratings=ratings.pivot(index='userId', columns='title', values='rating').fillna(0)"
      ]
    },
    {
      "cell_type": "code",
      "execution_count": 25,
      "metadata": {
        "id": "jQlEBh4Sx97n"
      },
      "outputs": [],
      "source": [
        "ratings=ratings.apply(standardize)"
      ]
    },
    {
      "cell_type": "code",
      "execution_count": 26,
      "metadata": {
        "colab": {
          "base_uri": "https://localhost:8080/",
          "height": 391
        },
        "id": "U6Qu-o-kzdgj",
        "outputId": "09c885eb-cfbf-4886-fc65-bb1d87455a36"
      },
      "outputs": [
        {
          "data": {
            "text/html": [
              "<div>\n",
              "<style scoped>\n",
              "    .dataframe tbody tr th:only-of-type {\n",
              "        vertical-align: middle;\n",
              "    }\n",
              "\n",
              "    .dataframe tbody tr th {\n",
              "        vertical-align: top;\n",
              "    }\n",
              "\n",
              "    .dataframe thead th {\n",
              "        text-align: right;\n",
              "    }\n",
              "</style>\n",
              "<table border=\"1\" class=\"dataframe\">\n",
              "  <thead>\n",
              "    <tr style=\"text-align: right;\">\n",
              "      <th>title</th>\n",
              "      <th>'Hellboy': The Seeds of Creation (2004)</th>\n",
              "      <th>'burbs, The (1989)</th>\n",
              "      <th>(500) Days of Summer (2009)</th>\n",
              "      <th>...And Justice for All (1979)</th>\n",
              "      <th>10 Cent Pistol (2015)</th>\n",
              "      <th>10 Cloverfield Lane (2016)</th>\n",
              "      <th>10 Things I Hate About You (1999)</th>\n",
              "      <th>10,000 BC (2008)</th>\n",
              "      <th>100 Girls (2000)</th>\n",
              "      <th>101 Dalmatians (1996)</th>\n",
              "      <th>...</th>\n",
              "      <th>Zookeeper (2011)</th>\n",
              "      <th>Zoolander (2001)</th>\n",
              "      <th>Zootopia (2016)</th>\n",
              "      <th>[REC] (2007)</th>\n",
              "      <th>[REC]³ 3 Génesis (2012)</th>\n",
              "      <th>anohana: The Flower We Saw That Day - The Movie (2013)</th>\n",
              "      <th>eXistenZ (1999)</th>\n",
              "      <th>xXx (2002)</th>\n",
              "      <th>xXx: State of the Union (2005)</th>\n",
              "      <th>¡Three Amigos! (1986)</th>\n",
              "    </tr>\n",
              "    <tr>\n",
              "      <th>userId</th>\n",
              "      <th></th>\n",
              "      <th></th>\n",
              "      <th></th>\n",
              "      <th></th>\n",
              "      <th></th>\n",
              "      <th></th>\n",
              "      <th></th>\n",
              "      <th></th>\n",
              "      <th></th>\n",
              "      <th></th>\n",
              "      <th></th>\n",
              "      <th></th>\n",
              "      <th></th>\n",
              "      <th></th>\n",
              "      <th></th>\n",
              "      <th></th>\n",
              "      <th></th>\n",
              "      <th></th>\n",
              "      <th></th>\n",
              "      <th></th>\n",
              "      <th></th>\n",
              "    </tr>\n",
              "  </thead>\n",
              "  <tbody>\n",
              "    <tr>\n",
              "      <th>1</th>\n",
              "      <td>-0.001672</td>\n",
              "      <td>-0.005017</td>\n",
              "      <td>-0.006856</td>\n",
              "      <td>-0.001672</td>\n",
              "      <td>-0.001672</td>\n",
              "      <td>-0.001672</td>\n",
              "      <td>-0.01204</td>\n",
              "      <td>-0.004459</td>\n",
              "      <td>-0.001672</td>\n",
              "      <td>-0.004459</td>\n",
              "      <td>...</td>\n",
              "      <td>-0.001951</td>\n",
              "      <td>-0.004645</td>\n",
              "      <td>-0.007061</td>\n",
              "      <td>-0.002843</td>\n",
              "      <td>-0.001672</td>\n",
              "      <td>-0.001672</td>\n",
              "      <td>-0.001672</td>\n",
              "      <td>-0.003344</td>\n",
              "      <td>-0.001672</td>\n",
              "      <td>-0.006689</td>\n",
              "    </tr>\n",
              "    <tr>\n",
              "      <th>2</th>\n",
              "      <td>-0.001672</td>\n",
              "      <td>-0.005017</td>\n",
              "      <td>-0.006856</td>\n",
              "      <td>-0.001672</td>\n",
              "      <td>-0.001672</td>\n",
              "      <td>-0.001672</td>\n",
              "      <td>-0.01204</td>\n",
              "      <td>-0.004459</td>\n",
              "      <td>-0.001672</td>\n",
              "      <td>-0.004459</td>\n",
              "      <td>...</td>\n",
              "      <td>-0.001951</td>\n",
              "      <td>-0.004645</td>\n",
              "      <td>-0.007061</td>\n",
              "      <td>-0.002843</td>\n",
              "      <td>-0.001672</td>\n",
              "      <td>-0.001672</td>\n",
              "      <td>-0.001672</td>\n",
              "      <td>-0.003344</td>\n",
              "      <td>-0.001672</td>\n",
              "      <td>-0.006689</td>\n",
              "    </tr>\n",
              "    <tr>\n",
              "      <th>3</th>\n",
              "      <td>-0.001672</td>\n",
              "      <td>-0.005017</td>\n",
              "      <td>-0.006856</td>\n",
              "      <td>-0.001672</td>\n",
              "      <td>-0.001672</td>\n",
              "      <td>-0.001672</td>\n",
              "      <td>-0.01204</td>\n",
              "      <td>-0.004459</td>\n",
              "      <td>-0.001672</td>\n",
              "      <td>-0.004459</td>\n",
              "      <td>...</td>\n",
              "      <td>-0.001951</td>\n",
              "      <td>-0.004645</td>\n",
              "      <td>-0.007061</td>\n",
              "      <td>-0.002843</td>\n",
              "      <td>-0.001672</td>\n",
              "      <td>-0.001672</td>\n",
              "      <td>-0.001672</td>\n",
              "      <td>-0.003344</td>\n",
              "      <td>-0.001672</td>\n",
              "      <td>-0.006689</td>\n",
              "    </tr>\n",
              "    <tr>\n",
              "      <th>4</th>\n",
              "      <td>-0.001672</td>\n",
              "      <td>-0.005017</td>\n",
              "      <td>-0.006856</td>\n",
              "      <td>-0.001672</td>\n",
              "      <td>-0.001672</td>\n",
              "      <td>-0.001672</td>\n",
              "      <td>-0.01204</td>\n",
              "      <td>-0.004459</td>\n",
              "      <td>-0.001672</td>\n",
              "      <td>-0.004459</td>\n",
              "      <td>...</td>\n",
              "      <td>-0.001951</td>\n",
              "      <td>-0.004645</td>\n",
              "      <td>-0.007061</td>\n",
              "      <td>-0.002843</td>\n",
              "      <td>-0.001672</td>\n",
              "      <td>-0.001672</td>\n",
              "      <td>-0.001672</td>\n",
              "      <td>-0.003344</td>\n",
              "      <td>-0.001672</td>\n",
              "      <td>-0.006689</td>\n",
              "    </tr>\n",
              "    <tr>\n",
              "      <th>5</th>\n",
              "      <td>-0.001672</td>\n",
              "      <td>-0.005017</td>\n",
              "      <td>-0.006856</td>\n",
              "      <td>-0.001672</td>\n",
              "      <td>-0.001672</td>\n",
              "      <td>-0.001672</td>\n",
              "      <td>-0.01204</td>\n",
              "      <td>-0.004459</td>\n",
              "      <td>-0.001672</td>\n",
              "      <td>-0.004459</td>\n",
              "      <td>...</td>\n",
              "      <td>-0.001951</td>\n",
              "      <td>-0.004645</td>\n",
              "      <td>-0.007061</td>\n",
              "      <td>-0.002843</td>\n",
              "      <td>-0.001672</td>\n",
              "      <td>-0.001672</td>\n",
              "      <td>-0.001672</td>\n",
              "      <td>-0.003344</td>\n",
              "      <td>-0.001672</td>\n",
              "      <td>-0.006689</td>\n",
              "    </tr>\n",
              "  </tbody>\n",
              "</table>\n",
              "<p>5 rows × 3626 columns</p>\n",
              "</div>"
            ],
            "text/plain": [
              "title   'Hellboy': The Seeds of Creation (2004)  'burbs, The (1989)  \\\n",
              "userId                                                                \n",
              "1                                     -0.001672           -0.005017   \n",
              "2                                     -0.001672           -0.005017   \n",
              "3                                     -0.001672           -0.005017   \n",
              "4                                     -0.001672           -0.005017   \n",
              "5                                     -0.001672           -0.005017   \n",
              "\n",
              "title   (500) Days of Summer (2009)  ...And Justice for All (1979)  \\\n",
              "userId                                                               \n",
              "1                         -0.006856                      -0.001672   \n",
              "2                         -0.006856                      -0.001672   \n",
              "3                         -0.006856                      -0.001672   \n",
              "4                         -0.006856                      -0.001672   \n",
              "5                         -0.006856                      -0.001672   \n",
              "\n",
              "title   10 Cent Pistol (2015)  10 Cloverfield Lane (2016)  \\\n",
              "userId                                                      \n",
              "1                   -0.001672                   -0.001672   \n",
              "2                   -0.001672                   -0.001672   \n",
              "3                   -0.001672                   -0.001672   \n",
              "4                   -0.001672                   -0.001672   \n",
              "5                   -0.001672                   -0.001672   \n",
              "\n",
              "title   10 Things I Hate About You (1999)  10,000 BC (2008)  100 Girls (2000)  \\\n",
              "userId                                                                          \n",
              "1                                -0.01204         -0.004459         -0.001672   \n",
              "2                                -0.01204         -0.004459         -0.001672   \n",
              "3                                -0.01204         -0.004459         -0.001672   \n",
              "4                                -0.01204         -0.004459         -0.001672   \n",
              "5                                -0.01204         -0.004459         -0.001672   \n",
              "\n",
              "title   101 Dalmatians (1996)  ...  Zookeeper (2011)  Zoolander (2001)  \\\n",
              "userId                         ...                                       \n",
              "1                   -0.004459  ...         -0.001951         -0.004645   \n",
              "2                   -0.004459  ...         -0.001951         -0.004645   \n",
              "3                   -0.004459  ...         -0.001951         -0.004645   \n",
              "4                   -0.004459  ...         -0.001951         -0.004645   \n",
              "5                   -0.004459  ...         -0.001951         -0.004645   \n",
              "\n",
              "title   Zootopia (2016)  [REC] (2007)  [REC]³ 3 Génesis (2012)  \\\n",
              "userId                                                           \n",
              "1             -0.007061     -0.002843                -0.001672   \n",
              "2             -0.007061     -0.002843                -0.001672   \n",
              "3             -0.007061     -0.002843                -0.001672   \n",
              "4             -0.007061     -0.002843                -0.001672   \n",
              "5             -0.007061     -0.002843                -0.001672   \n",
              "\n",
              "title   anohana: The Flower We Saw That Day - The Movie (2013)  \\\n",
              "userId                                                           \n",
              "1                                               -0.001672        \n",
              "2                                               -0.001672        \n",
              "3                                               -0.001672        \n",
              "4                                               -0.001672        \n",
              "5                                               -0.001672        \n",
              "\n",
              "title   eXistenZ (1999)  xXx (2002)  xXx: State of the Union (2005)  \\\n",
              "userId                                                                \n",
              "1             -0.001672   -0.003344                       -0.001672   \n",
              "2             -0.001672   -0.003344                       -0.001672   \n",
              "3             -0.001672   -0.003344                       -0.001672   \n",
              "4             -0.001672   -0.003344                       -0.001672   \n",
              "5             -0.001672   -0.003344                       -0.001672   \n",
              "\n",
              "title   ¡Three Amigos! (1986)  \n",
              "userId                         \n",
              "1                   -0.006689  \n",
              "2                   -0.006689  \n",
              "3                   -0.006689  \n",
              "4                   -0.006689  \n",
              "5                   -0.006689  \n",
              "\n",
              "[5 rows x 3626 columns]"
            ]
          },
          "execution_count": 26,
          "metadata": {},
          "output_type": "execute_result"
        }
      ],
      "source": [
        "ratings.head()"
      ]
    },
    {
      "cell_type": "code",
      "execution_count": 27,
      "metadata": {
        "id": "atdRLUd7yXsq"
      },
      "outputs": [],
      "source": [
        "item_similarity=cosine_similarity(ratings.T)\n",
        "item_sim_df=pd.DataFrame(item_similarity,index=ratings.columns,columns=ratings.columns)"
      ]
    },
    {
      "cell_type": "code",
      "execution_count": 28,
      "metadata": {
        "colab": {
          "base_uri": "https://localhost:8080/"
        },
        "id": "ifxOfcGwycsd",
        "outputId": "5a733426-de50-406f-8baf-767d7daec2c0"
      },
      "outputs": [
        {
          "name": "stdout",
          "output_type": "stream",
          "text": [
            "title\n",
            "Toy Story (1995)                                 1.500000\n",
            "Spellbound (2002)                                0.512289\n",
            "Father of the Bride (1991)                       0.401226\n",
            "War, The (1994)                                  0.391220\n",
            "Louis C.K.: Live at the Beacon Theater (2011)    0.391220\n",
            "Name: Toy Story (1995), dtype: float64\n"
          ]
        }
      ],
      "source": [
        "print(get_similar_movie('Toy Story (1995)',4).head())"
      ]
    },
    {
      "cell_type": "code",
      "execution_count": 29,
      "metadata": {
        "id": "gtn5iu3Tycpu"
      },
      "outputs": [],
      "source": [
        "temp_user=[('Toy Story (1995)',1),('Father of the Bride Part II (1995)',1),('Sabrina (1995)',1),('Grumpier Old Men (1995)',1)]"
      ]
    },
    {
      "cell_type": "code",
      "execution_count": 30,
      "metadata": {
        "colab": {
          "base_uri": "https://localhost:8080/"
        },
        "id": "vfLugnooycno",
        "outputId": "10f1d762-c1b9-4d7c-8f34-c511119397a0"
      },
      "outputs": [
        {
          "name": "stderr",
          "output_type": "stream",
          "text": [
            "C:\\Users\\saras\\AppData\\Local\\Temp\\ipykernel_32608\\1619788353.py:4: FutureWarning: The frame.append method is deprecated and will be removed from pandas in a future version. Use pandas.concat instead.\n",
            "  similar_movies=similar_movies.append(get_similar_movie(movie,rating),ignore_index=True)\n",
            "C:\\Users\\saras\\AppData\\Local\\Temp\\ipykernel_32608\\1619788353.py:4: FutureWarning: The frame.append method is deprecated and will be removed from pandas in a future version. Use pandas.concat instead.\n",
            "  similar_movies=similar_movies.append(get_similar_movie(movie,rating),ignore_index=True)\n",
            "C:\\Users\\saras\\AppData\\Local\\Temp\\ipykernel_32608\\1619788353.py:4: FutureWarning: The frame.append method is deprecated and will be removed from pandas in a future version. Use pandas.concat instead.\n",
            "  similar_movies=similar_movies.append(get_similar_movie(movie,rating),ignore_index=True)\n",
            "C:\\Users\\saras\\AppData\\Local\\Temp\\ipykernel_32608\\1619788353.py:4: FutureWarning: The frame.append method is deprecated and will be removed from pandas in a future version. Use pandas.concat instead.\n",
            "  similar_movies=similar_movies.append(get_similar_movie(movie,rating),ignore_index=True)\n"
          ]
        }
      ],
      "source": [
        "similar_movies=pd.DataFrame()\n",
        "\n",
        "for movie,rating in temp_user:\n",
        "  similar_movies=similar_movies.append(get_similar_movie(movie,rating),ignore_index=True)"
      ]
    },
    {
      "cell_type": "code",
      "execution_count": 31,
      "metadata": {
        "colab": {
          "base_uri": "https://localhost:8080/"
        },
        "id": "yEXLaArNyclW",
        "outputId": "406fb351-1b8a-45ed-c49e-b238e10061c3"
      },
      "outputs": [
        {
          "data": {
            "text/plain": [
              "title\n",
              "Silence of the Lambs, The (1991)                     0.138546\n",
              "Braveheart (1995)                                    0.127176\n",
              "Fugitive, The (1993)                                 0.126082\n",
              "Star Wars: Episode VI - Return of the Jedi (1983)    0.119625\n",
              "Good Will Hunting (1997)                             0.116932\n",
              "Star Wars: Episode IV - A New Hope (1977)            0.116516\n",
              "Jurassic Park (1993)                                 0.114124\n",
              "Sixth Sense, The (1999)                              0.113994\n",
              "Twelve Monkeys (a.k.a. 12 Monkeys) (1995)            0.112760\n",
              "Schindler's List (1993)                              0.111190\n",
              "dtype: float64"
            ]
          },
          "execution_count": 31,
          "metadata": {},
          "output_type": "execute_result"
        }
      ],
      "source": [
        "similar_movies.sum().sort_values(ascending=False).head(10)"
      ]
    },
    {
      "cell_type": "code",
      "execution_count": 33,
      "metadata": {
        "id": "C8cFMq_31kY2"
      },
      "outputs": [
        {
          "name": "stderr",
          "output_type": "stream",
          "text": [
            "C:\\Users\\saras\\AppData\\Local\\Temp\\ipykernel_32608\\3301273292.py:5: FutureWarning: The frame.append method is deprecated and will be removed from pandas in a future version. Use pandas.concat instead.\n",
            "  similar_movies=similar_movies.append(get_similar_movie(movie,rating),ignore_index=True)\n"
          ]
        },
        {
          "data": {
            "text/plain": [
              "title\n",
              "Toy Story (1995)                                 2.500000\n",
              "Spellbound (2002)                                0.853814\n",
              "Father of the Bride (1991)                       0.668710\n",
              "War, The (1994)                                  0.652034\n",
              "Louis C.K.: Live at the Beacon Theater (2011)    0.652034\n",
              "Four Seasons, The (1981)                         0.652034\n",
              "Passion Fish (1992)                              0.652034\n",
              "Promise, The (La promesse) (1996)                0.652034\n",
              "In the Company of Men (1997)                     0.652034\n",
              "Other Guys, The (2010)                           0.652034\n",
              "dtype: float64"
            ]
          },
          "execution_count": 33,
          "metadata": {},
          "output_type": "execute_result"
        }
      ],
      "source": [
        "temp_user=[('Toy Story (1995)',5)]\n",
        "similar_movies=pd.DataFrame()\n",
        "\n",
        "for movie,rating in temp_user:\n",
        "  similar_movies=similar_movies.append(get_similar_movie(movie,rating),ignore_index=True)\n",
        "\n",
        "similar_movies.sum().sort_values(ascending=False).head(10)"
      ]
    },
    {
      "cell_type": "code",
      "execution_count": null,
      "metadata": {},
      "outputs": [],
      "source": []
    }
  ],
  "metadata": {
    "colab": {
      "provenance": []
    },
    "kernelspec": {
      "display_name": "Python 3",
      "name": "python3"
    },
    "language_info": {
      "codemirror_mode": {
        "name": "ipython",
        "version": 3
      },
      "file_extension": ".py",
      "mimetype": "text/x-python",
      "name": "python",
      "nbconvert_exporter": "python",
      "pygments_lexer": "ipython3",
      "version": "3.10.9"
    }
  },
  "nbformat": 4,
  "nbformat_minor": 0
}
