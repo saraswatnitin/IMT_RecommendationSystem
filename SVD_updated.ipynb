{
  "nbformat": 4,
  "nbformat_minor": 0,
  "metadata": {
    "colab": {
      "provenance": []
    },
    "kernelspec": {
      "name": "python3",
      "display_name": "Python 3"
    },
    "language_info": {
      "name": "python"
    }
  },
  "cells": [
    {
      "cell_type": "code",
      "execution_count": 1,
      "metadata": {
        "id": "ikt4ClBMHori"
      },
      "outputs": [],
      "source": [
        "import pandas as pd\n",
        "import numpy as np\n",
        "import matplotlib.pyplot as plt\n",
        "\n",
        "ratings_data = pd.read_csv(\"ratings.csv\")\n",
        "movies_data = pd.read_csv(\"movies.csv\")"
      ]
    },
    {
      "cell_type": "code",
      "source": [
        "!pip install surprise"
      ],
      "metadata": {
        "colab": {
          "base_uri": "https://localhost:8080/"
        },
        "id": "c06rTSPZH9wA",
        "outputId": "53c1e795-387d-4ad4-a4c7-4e38e5e4bf4b"
      },
      "execution_count": 3,
      "outputs": [
        {
          "output_type": "stream",
          "name": "stdout",
          "text": [
            "Collecting surprise\n",
            "  Downloading surprise-0.1-py2.py3-none-any.whl (1.8 kB)\n",
            "Collecting scikit-surprise (from surprise)\n",
            "  Downloading scikit-surprise-1.1.3.tar.gz (771 kB)\n",
            "\u001b[2K     \u001b[90m━━━━━━━━━━━━━━━━━━━━━━━━━━━━━━━━━━━━━━━━\u001b[0m \u001b[32m772.0/772.0 kB\u001b[0m \u001b[31m5.9 MB/s\u001b[0m eta \u001b[36m0:00:00\u001b[0m\n",
            "\u001b[?25h  Preparing metadata (setup.py) ... \u001b[?25l\u001b[?25hdone\n",
            "Requirement already satisfied: joblib>=1.0.0 in /usr/local/lib/python3.10/dist-packages (from scikit-surprise->surprise) (1.3.2)\n",
            "Requirement already satisfied: numpy>=1.17.3 in /usr/local/lib/python3.10/dist-packages (from scikit-surprise->surprise) (1.23.5)\n",
            "Requirement already satisfied: scipy>=1.3.2 in /usr/local/lib/python3.10/dist-packages (from scikit-surprise->surprise) (1.11.4)\n",
            "Building wheels for collected packages: scikit-surprise\n",
            "  Building wheel for scikit-surprise (setup.py) ... \u001b[?25l\u001b[?25hdone\n",
            "  Created wheel for scikit-surprise: filename=scikit_surprise-1.1.3-cp310-cp310-linux_x86_64.whl size=3163703 sha256=8cdd42132bc069764a186dc8d4fa53b19b440efa59f2cb6c4c61eae0c6bc0cf6\n",
            "  Stored in directory: /root/.cache/pip/wheels/a5/ca/a8/4e28def53797fdc4363ca4af740db15a9c2f1595ebc51fb445\n",
            "Successfully built scikit-surprise\n",
            "Installing collected packages: scikit-surprise, surprise\n",
            "Successfully installed scikit-surprise-1.1.3 surprise-0.1\n"
          ]
        }
      ]
    },
    {
      "cell_type": "code",
      "source": [
        "from surprise import Dataset\n",
        "from surprise import Reader\n",
        "\n",
        "# Get minimum and maximum rating from the dataset\n",
        "min_rating = ratings_data.rating.min()\n",
        "max_rating = ratings_data.rating.max()\n",
        "\n",
        "reader = Reader(rating_scale=(min_rating, max_rating))\n",
        "data = Dataset.load_from_df(ratings_data[['userId', 'movieId', 'rating']], reader)"
      ],
      "metadata": {
        "id": "aaVaUEN1H3xJ"
      },
      "execution_count": 4,
      "outputs": []
    },
    {
      "cell_type": "code",
      "source": [
        "from surprise import SVD\n",
        "from surprise.model_selection import cross_validate\n",
        "\n",
        "svd = SVD(n_epochs=10)\n",
        "results = cross_validate(svd, data, measures=['RMSE', 'MAE'], cv=10, verbose=True)"
      ],
      "metadata": {
        "colab": {
          "base_uri": "https://localhost:8080/"
        },
        "id": "X3X_iMfDH8Tl",
        "outputId": "bf1fa507-36f0-4ec3-c406-a8c7642b2cbf"
      },
      "execution_count": 5,
      "outputs": [
        {
          "output_type": "stream",
          "name": "stdout",
          "text": [
            "Evaluating RMSE, MAE of algorithm SVD on 10 split(s).\n",
            "\n",
            "                  Fold 1  Fold 2  Fold 3  Fold 4  Fold 5  Fold 6  Fold 7  Fold 8  Fold 9  Fold 10 Mean    Std     \n",
            "RMSE (testset)    0.8712  0.8830  0.8692  0.8722  0.8858  0.8784  0.8796  0.8771  0.8795  0.8775  0.8774  0.0049  \n",
            "MAE (testset)     0.6725  0.6848  0.6717  0.6713  0.6774  0.6787  0.6787  0.6772  0.6742  0.6731  0.6760  0.0040  \n",
            "Fit time          3.20    0.95    0.95    0.94    0.97    0.95    0.96    0.94    1.11    1.40    1.24    0.67    \n",
            "Test time         0.10    0.06    0.06    0.19    0.08    0.06    0.06    0.10    0.11    0.11    0.09    0.04    \n"
          ]
        }
      ]
    },
    {
      "cell_type": "code",
      "source": [
        "print(\"Average MAE: \", np.average(results[\"test_mae\"]))\n",
        "print(\"Average RMSE: \", np.average(results[\"test_rmse\"]))"
      ],
      "metadata": {
        "colab": {
          "base_uri": "https://localhost:8080/"
        },
        "id": "JLewXfZnIWfr",
        "outputId": "c2b606c5-c32e-4837-cb08-d839bef5dce8"
      },
      "execution_count": 6,
      "outputs": [
        {
          "output_type": "stream",
          "name": "stdout",
          "text": [
            "Average MAE:  0.6759587262378012\n",
            "Average RMSE:  0.8773508516601002\n"
          ]
        }
      ]
    },
    {
      "cell_type": "code",
      "source": [
        "from surprise import SVD\n",
        "from surprise.model_selection import GridSearchCV\n",
        "\n",
        "param_grid = {\n",
        "  'n_factors': [20, 50, 100],\n",
        "  'n_epochs': [5, 10, 20]\n",
        "}\n",
        "\n",
        "gs = GridSearchCV(SVD, param_grid, measures=['rmse', 'mae'], cv=10)\n",
        "gs.fit(data)\n",
        "\n",
        "print(gs.best_score['rmse'])\n",
        "print(gs.best_params['rmse'])"
      ],
      "metadata": {
        "colab": {
          "base_uri": "https://localhost:8080/"
        },
        "id": "hUreaEUSIdq7",
        "outputId": "566c41c5-69b4-4c71-b27a-3c28eec63588"
      },
      "execution_count": 7,
      "outputs": [
        {
          "output_type": "stream",
          "name": "stdout",
          "text": [
            "0.8665079959663734\n",
            "{'n_factors': 20, 'n_epochs': 20}\n"
          ]
        }
      ]
    },
    {
      "cell_type": "code",
      "source": [
        "from surprise.model_selection import train_test_split\n",
        "\n",
        "# best hyperparameters\n",
        "best_factor = gs.best_params['rmse']['n_factors']\n",
        "best_epoch = gs.best_params['rmse']['n_epochs']\n",
        "\n",
        "# sample random trainset and testset\n",
        "# test set is made of 20% of the ratings.\n",
        "trainset, testset = train_test_split(data, test_size=.20)\n",
        "\n",
        "# We'll use the famous SVD algorithm.\n",
        "svd = SVD(n_factors=best_factor, n_epochs=best_epoch)\n",
        "\n",
        "# Train the algorithm on the trainset\n",
        "svd.fit(trainset)"
      ],
      "metadata": {
        "colab": {
          "base_uri": "https://localhost:8080/"
        },
        "id": "5QjJNKC9IfxP",
        "outputId": "e2b68118-e0d8-41f7-eac2-1c531776f76d"
      },
      "execution_count": 8,
      "outputs": [
        {
          "output_type": "execute_result",
          "data": {
            "text/plain": [
              "<surprise.prediction_algorithms.matrix_factorization.SVD at 0x7bcd4ac9bd00>"
            ]
          },
          "metadata": {},
          "execution_count": 8
        }
      ]
    },
    {
      "cell_type": "code",
      "source": [
        "def generate_recommendation(model, user_id, ratings_df, movies_df, n_items):\n",
        "   # Get a list of all movie IDs from dataset\n",
        "   movie_ids = ratings_df[\"movieId\"].unique()\n",
        "\n",
        "   # Get a list of all movie IDs that have been watched by user\n",
        "   movie_ids_user = ratings_df.loc[ratings_df[\"userId\"] == user_id, \"movieId\"]\n",
        "    # Get a list off all movie IDS that that have not been watched by user\n",
        "   movie_ids_to_pred = np.setdiff1d(movie_ids, movie_ids_user)\n",
        "\n",
        "   # Apply a rating of 4 to all interactions (only to match the Surprise dataset format)\n",
        "   test_set = [[user_id, movie_id, 4] for movie_id in movie_ids_to_pred]\n",
        "\n",
        "   # Predict the ratings and generate recommendations\n",
        "   predictions = model.test(test_set)\n",
        "   pred_ratings = np.array([pred.est for pred in predictions])\n",
        "   print(\"Top {0} item recommendations for user {1}:\".format(n_items, user_id))\n",
        "   # Rank top-n movies based on the predicted ratings\n",
        "   index_max = (-pred_ratings).argsort()[:n_items]\n",
        "   for i in index_max:\n",
        "       movie_id = movie_ids_to_pred[i]\n",
        "       print(movies_df[movies_df[\"movieId\"]==movie_id][\"title\"].values[0], pred_ratings[i])\n",
        "\n",
        "\n",
        "# define which user ID that we want to give recommendation\n",
        "userID = 23\n",
        "# define how many top-n movies that we want to recommend\n",
        "n_items = 10\n",
        "# generate recommendation using the model that we have trained\n",
        "generate_recommendation(svd,userID,ratings_data,movies_data,n_items)"
      ],
      "metadata": {
        "colab": {
          "base_uri": "https://localhost:8080/"
        },
        "id": "KffdpsE1IwpU",
        "outputId": "8841287f-d33d-4685-fb5a-3dc47c700c19"
      },
      "execution_count": 9,
      "outputs": [
        {
          "output_type": "stream",
          "name": "stdout",
          "text": [
            "Top 10 item recommendations for user 23:\n",
            "Lawrence of Arabia (1962) 4.1957101974476885\n",
            "Shawshank Redemption, The (1994) 4.125409772253242\n",
            "Raiders of the Lost Ark (Indiana Jones and the Raiders of the Lost Ark) (1981) 4.032184196915992\n",
            "Wallace & Gromit: The Wrong Trousers (1993) 3.9822488916204395\n",
            "Star Wars: Episode IV - A New Hope (1977) 3.9810481011184424\n",
            "Eternal Sunshine of the Spotless Mind (2004) 3.9791785202785035\n",
            "Philadelphia Story, The (1940) 3.979141499655915\n",
            "Departed, The (2006) 3.9679962809853637\n",
            "Cool Hand Luke (1967) 3.9649790163399414\n",
            "Little Big Man (1970) 3.9642193436476716\n"
          ]
        }
      ]
    }
  ]
}